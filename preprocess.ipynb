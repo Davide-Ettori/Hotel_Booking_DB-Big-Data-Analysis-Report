{
 "cells": [
  {
   "cell_type": "code",
   "execution_count": 90,
   "metadata": {
    "collapsed": true,
    "ExecuteTime": {
     "end_time": "2023-12-23T20:16:44.381884Z",
     "start_time": "2023-12-23T20:16:44.372445Z"
    }
   },
   "outputs": [],
   "source": [
    "import pandas as pd"
   ]
  },
  {
   "cell_type": "code",
   "execution_count": 91,
   "outputs": [],
   "source": [
    "df = pd.read_csv(\"original dataset.csv\")"
   ],
   "metadata": {
    "collapsed": false,
    "ExecuteTime": {
     "end_time": "2023-12-23T20:16:44.625722Z",
     "start_time": "2023-12-23T20:16:44.530241Z"
    }
   }
  },
  {
   "cell_type": "code",
   "execution_count": 92,
   "outputs": [],
   "source": [
    "df.rename(columns={\"average price\": \"price\", \"P-C\": \"prev canc\", \"P-not-C\": \"not prev canc\", \"booking status\": \"status\", \"market segment type\": \"market cluster\", \"car parking space\": \"car parking\", \"type of meal\": \"meal type\"}, inplace=True)\n",
    "# renaming some of the attributes"
   ],
   "metadata": {
    "collapsed": false,
    "ExecuteTime": {
     "end_time": "2023-12-23T20:16:44.698897Z",
     "start_time": "2023-12-23T20:16:44.692472Z"
    }
   }
  },
  {
   "cell_type": "code",
   "execution_count": 93,
   "outputs": [],
   "source": [
    "df[\"number of people\"] = df[\"number of adults\"] + df[\"number of children\"]\n",
    "df[\"number of nights\"] = df[\"number of week nights\"] + df[\"number of weekend nights\"]\n",
    "# adding new useful attributes"
   ],
   "metadata": {
    "collapsed": false,
    "ExecuteTime": {
     "end_time": "2023-12-23T20:16:44.834678Z",
     "start_time": "2023-12-23T20:16:44.829245Z"
    }
   }
  },
  {
   "cell_type": "code",
   "execution_count": 94,
   "outputs": [],
   "source": [
    "df = df[~df[\"date of reservation\"].str.contains(\"-\")]\n",
    "df[\"date\"] = pd.to_datetime(df[\"date of reservation\"])\n",
    "\n",
    "df[\"month\"] = df[\"date\"].dt.month\n",
    "df[\"year\"] = df[\"date\"].dt.year\n",
    "\n",
    "df.drop(\"date\", inplace=True, axis=1)\n",
    "# adding \"month\" and \"year\" as a numerical attributes, also keeping the full date"
   ],
   "metadata": {
    "collapsed": false,
    "ExecuteTime": {
     "end_time": "2023-12-23T20:16:45.034601Z",
     "start_time": "2023-12-23T20:16:45.008528Z"
    }
   }
  },
  {
   "cell_type": "code",
   "execution_count": 95,
   "outputs": [],
   "source": [
    "outliers_cols = [\"lead time\", \"price\"]\n",
    "for column in outliers_cols:\n",
    "    q1 = df[column].quantile(0.25)\n",
    "    q3 = df[column].quantile(0.75)\n",
    "    iqr = q3 - q1\n",
    "    lower_bound = q1 - 1.5 * iqr\n",
    "    upper_bound = q3 + 1.5 * iqr\n",
    "    df = df[(df[column] >= lower_bound) & (df[column] <= upper_bound)]\n",
    "\n",
    "# eliminating outliers based on inter-quantile range"
   ],
   "metadata": {
    "collapsed": false,
    "ExecuteTime": {
     "end_time": "2023-12-23T20:16:45.327380Z",
     "start_time": "2023-12-23T20:16:45.306072Z"
    }
   }
  },
  {
   "cell_type": "code",
   "execution_count": 96,
   "outputs": [
    {
     "data": {
      "text/plain": "Booking_ID                  0\nnumber of adults            0\nnumber of children          0\nnumber of weekend nights    0\nnumber of week nights       0\nmeal type                   0\ncar parking                 0\nroom type                   0\nlead time                   0\nmarket cluster              0\nrepeated                    0\nprev canc                   0\nnot prev canc               0\nprice                       0\nspecial requests            0\ndate of reservation         0\nstatus                      0\nnumber of people            0\nnumber of nights            0\nmonth                       0\nyear                        0\ndtype: int64"
     },
     "execution_count": 96,
     "metadata": {},
     "output_type": "execute_result"
    }
   ],
   "source": [
    "df.isnull().sum() # luckily, there are no missing values between the data"
   ],
   "metadata": {
    "collapsed": false,
    "ExecuteTime": {
     "end_time": "2023-12-23T20:16:46.004515Z",
     "start_time": "2023-12-23T20:16:45.933728Z"
    }
   }
  },
  {
   "cell_type": "code",
   "execution_count": 97,
   "outputs": [
    {
     "name": "stdout",
     "output_type": "stream",
     "text": [
      "<class 'pandas.core.frame.DataFrame'>\n",
      "Index: 33312 entries, 0 to 36284\n",
      "Data columns (total 21 columns):\n",
      " #   Column                    Non-Null Count  Dtype  \n",
      "---  ------                    --------------  -----  \n",
      " 0   Booking_ID                33312 non-null  object \n",
      " 1   number of adults          33312 non-null  int64  \n",
      " 2   number of children        33312 non-null  int64  \n",
      " 3   number of weekend nights  33312 non-null  int64  \n",
      " 4   number of week nights     33312 non-null  int64  \n",
      " 5   meal type                 33312 non-null  object \n",
      " 6   car parking               33312 non-null  int64  \n",
      " 7   room type                 33312 non-null  object \n",
      " 8   lead time                 33312 non-null  int64  \n",
      " 9   market cluster            33312 non-null  object \n",
      " 10  repeated                  33312 non-null  int64  \n",
      " 11  prev canc                 33312 non-null  int64  \n",
      " 12  not prev canc             33312 non-null  int64  \n",
      " 13  price                     33312 non-null  float64\n",
      " 14  special requests          33312 non-null  int64  \n",
      " 15  date of reservation       33312 non-null  object \n",
      " 16  status                    33312 non-null  object \n",
      " 17  number of people          33312 non-null  int64  \n",
      " 18  number of nights          33312 non-null  int64  \n",
      " 19  month                     33312 non-null  int32  \n",
      " 20  year                      33312 non-null  int32  \n",
      "dtypes: float64(1), int32(2), int64(12), object(6)\n",
      "memory usage: 5.3+ MB\n"
     ]
    }
   ],
   "source": [
    "df.info() # taking a look at new processed dataframe"
   ],
   "metadata": {
    "collapsed": false,
    "ExecuteTime": {
     "end_time": "2023-12-23T20:16:46.328231Z",
     "start_time": "2023-12-23T20:16:46.298496Z"
    }
   }
  },
  {
   "cell_type": "code",
   "execution_count": 89,
   "outputs": [],
   "source": [
    "#df.to_csv(\"new dataset.csv\", sep=\",\", index=False) # saving the new dataset locally, ready to load in MongoDB"
   ],
   "metadata": {
    "collapsed": false,
    "ExecuteTime": {
     "end_time": "2023-12-23T20:11:14.643355Z",
     "start_time": "2023-12-23T20:11:14.439807Z"
    }
   }
  }
 ],
 "metadata": {
  "kernelspec": {
   "display_name": "Python 3",
   "language": "python",
   "name": "python3"
  },
  "language_info": {
   "codemirror_mode": {
    "name": "ipython",
    "version": 2
   },
   "file_extension": ".py",
   "mimetype": "text/x-python",
   "name": "python",
   "nbconvert_exporter": "python",
   "pygments_lexer": "ipython2",
   "version": "2.7.6"
  }
 },
 "nbformat": 4,
 "nbformat_minor": 0
}
